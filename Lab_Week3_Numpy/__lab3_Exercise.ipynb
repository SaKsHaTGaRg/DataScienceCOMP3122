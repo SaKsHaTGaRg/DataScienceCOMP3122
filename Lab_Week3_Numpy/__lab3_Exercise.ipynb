{
 "cells": [
  {
   "cell_type": "markdown",
   "metadata": {},
   "source": [
    "# Lab exercise, week 3 - numpy & matplotlib basics\n",
    "\n",
    "Contents:\n",
    "- Overview of numpy arrays\n",
    "- Exercises for numpy\n",
    "- Exercises for plotting"
   ]
  },
  {
   "cell_type": "markdown",
   "metadata": {},
   "source": [
    "## NumPy - overview\n",
    "\n",
    "Python lists are somewhat weird creatures. In contrast to basic array types in other languages like C# and Java, they can hold objects of different types and new elements can be inserted in the middle. NumPy arrays are much more like C# arrays - all elements have the same type."
   ]
  },
  {
   "cell_type": "code",
   "metadata": {
    "ExecuteTime": {
     "end_time": "2025-09-16T13:22:18.438432Z",
     "start_time": "2025-09-16T13:22:18.433332Z"
    }
   },
   "source": [
    "from idlelib.colorizer import color_config\n",
    "\n",
    "# by convention numpy is always imported as np\n",
    "import numpy as np"
   ],
   "outputs": [],
   "execution_count": 2
  },
  {
   "cell_type": "markdown",
   "metadata": {},
   "source": [
    "### Common ways of creating numpy arrays"
   ]
  },
  {
   "cell_type": "code",
   "metadata": {
    "ExecuteTime": {
     "end_time": "2025-09-16T13:22:21.402561Z",
     "start_time": "2025-09-16T13:22:21.390829Z"
    }
   },
   "source": [
    "a = np.array([5, 2, 17])  # Convert a Python list into a numpy array\n",
    "a"
   ],
   "outputs": [
    {
     "data": {
      "text/plain": [
       "array([ 5,  2, 17])"
      ]
     },
     "execution_count": 3,
     "metadata": {},
     "output_type": "execute_result"
    }
   ],
   "execution_count": 3
  },
  {
   "cell_type": "code",
   "metadata": {
    "ExecuteTime": {
     "end_time": "2025-09-16T13:25:47.422382Z",
     "start_time": "2025-09-16T13:25:47.413558Z"
    }
   },
   "source": [
    "# List of lists gets converted into a 2D array\n",
    "np.array([[5, 7, 2],\n",
    "          [9, 4, 1]])\n"
   ],
   "outputs": [
    {
     "data": {
      "text/plain": [
       "array([[5, 7, 2],\n",
       "       [9, 4, 1]])"
      ]
     },
     "execution_count": 7,
     "metadata": {},
     "output_type": "execute_result"
    }
   ],
   "execution_count": 7
  },
  {
   "cell_type": "code",
   "metadata": {
    "ExecuteTime": {
     "end_time": "2025-09-16T13:31:32.349909Z",
     "start_time": "2025-09-16T13:31:32.342266Z"
    }
   },
   "source": [
    "np.arange(5)  # Same as Python's range() but creates a numpy array"
   ],
   "outputs": [
    {
     "data": {
      "text/plain": [
       "array([0, 1, 2, 3, 4])"
      ]
     },
     "execution_count": 21,
     "metadata": {},
     "output_type": "execute_result"
    }
   ],
   "execution_count": 21
  },
  {
   "cell_type": "code",
   "metadata": {
    "ExecuteTime": {
     "end_time": "2025-09-16T13:25:57.478328Z",
     "start_time": "2025-09-16T13:25:57.466762Z"
    }
   },
   "source": [
    "np.zeros(5)  # Create a numpy array with five elements, all set to zero"
   ],
   "outputs": [
    {
     "data": {
      "text/plain": [
       "array([0., 0., 0., 0., 0.])"
      ]
     },
     "execution_count": 9,
     "metadata": {},
     "output_type": "execute_result"
    }
   ],
   "execution_count": 9
  },
  {
   "cell_type": "code",
   "execution_count": 8,
   "metadata": {},
   "outputs": [
    {
     "data": {
      "text/plain": [
       "array([1., 1., 1., 1., 1., 1., 1.])"
      ]
     },
     "execution_count": 8,
     "metadata": {},
     "output_type": "execute_result"
    }
   ],
   "source": [
    "c = np.ones(7)  # Create a numpy array with five elements, all set to 1\n",
    "c\n"
   ]
  },
  {
   "cell_type": "code",
   "execution_count": 9,
   "metadata": {},
   "outputs": [
    {
     "data": {
      "text/plain": [
       "array([0.14654318, 0.24300736, 0.74564537, 0.58652819, 0.39433085,\n",
       "       0.94389319])"
      ]
     },
     "execution_count": 9,
     "metadata": {},
     "output_type": "execute_result"
    }
   ],
   "source": [
    "# Array of 6 random numbers between 0 and 1\n",
    "np.random.rand(6)"
   ]
  },
  {
   "cell_type": "code",
   "metadata": {
    "ExecuteTime": {
     "end_time": "2025-09-16T13:26:03.248Z",
     "start_time": "2025-09-16T13:26:02.854352Z"
    }
   },
   "source": [
    "# array with 6 random integers between 0 and 100 (not including 100 as usual)\n",
    "np.random.randint(100, size=6)"
   ],
   "outputs": [
    {
     "data": {
      "text/plain": [
       "array([86, 39, 24,  2, 83, 79], dtype=int32)"
      ]
     },
     "execution_count": 10,
     "metadata": {},
     "output_type": "execute_result"
    }
   ],
   "execution_count": 10
  },
  {
   "cell_type": "markdown",
   "metadata": {},
   "source": [
    "### Array properties"
   ]
  },
  {
   "cell_type": "code",
   "metadata": {
    "ExecuteTime": {
     "end_time": "2025-09-16T13:27:36.054840Z",
     "start_time": "2025-09-16T13:27:36.048491Z"
    }
   },
   "source": [
    "b = np.array([[5, 7, 2],\n",
    "              [9, 4, 1]])\n",
    "b"
   ],
   "outputs": [
    {
     "data": {
      "text/plain": [
       "array([[5, 7, 2],\n",
       "       [9, 4, 1]])"
      ]
     },
     "execution_count": 12,
     "metadata": {},
     "output_type": "execute_result"
    }
   ],
   "execution_count": 12
  },
  {
   "cell_type": "code",
   "metadata": {
    "ExecuteTime": {
     "end_time": "2025-09-16T13:27:38.606354Z",
     "start_time": "2025-09-16T13:27:38.599181Z"
    }
   },
   "source": [
    "# Data type of the array\n",
    "a.dtype"
   ],
   "outputs": [
    {
     "data": {
      "text/plain": [
       "dtype('int64')"
      ]
     },
     "execution_count": 13,
     "metadata": {},
     "output_type": "execute_result"
    }
   ],
   "execution_count": 13
  },
  {
   "cell_type": "code",
   "metadata": {
    "ExecuteTime": {
     "end_time": "2025-09-16T13:27:40.996431Z",
     "start_time": "2025-09-16T13:27:40.990199Z"
    }
   },
   "source": [
    "# number of dimensions\n",
    "b.ndim "
   ],
   "outputs": [
    {
     "data": {
      "text/plain": [
       "2"
      ]
     },
     "execution_count": 14,
     "metadata": {},
     "output_type": "execute_result"
    }
   ],
   "execution_count": 14
  },
  {
   "cell_type": "code",
   "metadata": {
    "ExecuteTime": {
     "end_time": "2025-09-16T13:27:42.816237Z",
     "start_time": "2025-09-16T13:27:42.808151Z"
    }
   },
   "source": [
    "# array shape is a Python tuple, in this case it's (2, 3) because b is a 2 by 3 array.\n",
    "b.shape"
   ],
   "outputs": [
    {
     "data": {
      "text/plain": [
       "(2, 3)"
      ]
     },
     "execution_count": 15,
     "metadata": {},
     "output_type": "execute_result"
    }
   ],
   "execution_count": 15
  },
  {
   "cell_type": "code",
   "metadata": {
    "ExecuteTime": {
     "end_time": "2025-09-16T13:27:44.813253Z",
     "start_time": "2025-09-16T13:27:44.807097Z"
    }
   },
   "source": [
    "# The total number of elements\n",
    "b.size "
   ],
   "outputs": [
    {
     "data": {
      "text/plain": [
       "6"
      ]
     },
     "execution_count": 16,
     "metadata": {},
     "output_type": "execute_result"
    }
   ],
   "execution_count": 16
  },
  {
   "cell_type": "code",
   "metadata": {
    "ExecuteTime": {
     "end_time": "2025-09-16T13:27:47.441382Z",
     "start_time": "2025-09-16T13:27:47.434166Z"
    }
   },
   "source": [
    "# Note that zeros byt default uses the float64 data type\n",
    "z = np.zeros(7)\n",
    "z.dtype"
   ],
   "outputs": [
    {
     "data": {
      "text/plain": [
       "dtype('float64')"
      ]
     },
     "execution_count": 17,
     "metadata": {},
     "output_type": "execute_result"
    }
   ],
   "execution_count": 17
  },
  {
   "cell_type": "code",
   "metadata": {
    "ExecuteTime": {
     "end_time": "2025-09-16T13:27:52.158935Z",
     "start_time": "2025-09-16T13:27:52.150088Z"
    }
   },
   "source": [
    "# But data type can be set explicitly, almost all numpy functions that create arrays take an optional dtype parameter\n",
    "# Let's set it to an 8 bit integer\n",
    "z = np.zeros(7, dtype=np.int8)  \n",
    "z.dtype"
   ],
   "outputs": [
    {
     "data": {
      "text/plain": [
       "dtype('int8')"
      ]
     },
     "execution_count": 18,
     "metadata": {},
     "output_type": "execute_result"
    }
   ],
   "execution_count": 18
  },
  {
   "cell_type": "markdown",
   "metadata": {},
   "source": [
    "## Exercises\n",
    "\n",
    "Read section 2.2 of the book (The Basics of NumPy Arrays) and complete the tasks below.\n"
   ]
  },
  {
   "cell_type": "markdown",
   "metadata": {},
   "source": [
    "### Numpy Array Creation"
   ]
  },
  {
   "cell_type": "markdown",
   "metadata": {},
   "source": [
    "##### Convert a list into a numpy array"
   ]
  },
  {
   "cell_type": "code",
   "execution_count": 113,
   "metadata": {},
   "outputs": [
    {
     "data": {
      "text/plain": [
       "[5, 3, 8, 4]"
      ]
     },
     "execution_count": 113,
     "metadata": {},
     "output_type": "execute_result"
    }
   ],
   "source": [
    "lst = [5, 3, 8, 4]\n",
    "lst"
   ]
  },
  {
   "cell_type": "code",
   "metadata": {
    "ExecuteTime": {
     "end_time": "2025-09-16T13:22:59.482825Z",
     "start_time": "2025-09-16T13:22:59.475373Z"
    }
   },
   "source": [
    "# your code here\n",
    "x = np.array([5,3,8,4])\n",
    "print(x)"
   ],
   "outputs": [
    {
     "name": "stdout",
     "output_type": "stream",
     "text": [
      "[5 3 8 4]\n"
     ]
    }
   ],
   "execution_count": 6
  },
  {
   "cell_type": "markdown",
   "metadata": {},
   "source": [
    "#### What happens when you multiply a list by 3, what a about an array multiplied by 3?"
   ]
  },
  {
   "metadata": {
    "ExecuteTime": {
     "end_time": "2025-09-16T13:34:02.206990Z",
     "start_time": "2025-09-16T13:34:02.199847Z"
    }
   },
   "cell_type": "code",
   "source": [
    "list = [1,2,3,4]\n",
    "print(list*3)"
   ],
   "outputs": [
    {
     "name": "stdout",
     "output_type": "stream",
     "text": [
      "[1, 2, 3, 4, 1, 2, 3, 4, 1, 2, 3, 4]\n"
     ]
    }
   ],
   "execution_count": 25
  },
  {
   "cell_type": "code",
   "metadata": {
    "ExecuteTime": {
     "end_time": "2025-09-16T13:34:48.767931Z",
     "start_time": "2025-09-16T13:34:48.760249Z"
    }
   },
   "source": [
    "# Feel free to add more cells\n",
    "myarray = np.array(list)\n",
    "print(myarray*3)\n"
   ],
   "outputs": [
    {
     "name": "stdout",
     "output_type": "stream",
     "text": [
      "[ 3  6  9 12]\n"
     ]
    }
   ],
   "execution_count": 26
  },
  {
   "cell_type": "markdown",
   "metadata": {},
   "source": [
    "#### Create an array of 10 ones [1, 1, 1, ... ]"
   ]
  },
  {
   "cell_type": "code",
   "metadata": {
    "ExecuteTime": {
     "end_time": "2025-09-16T13:29:35.065764Z",
     "start_time": "2025-09-16T13:29:35.059915Z"
    }
   },
   "source": [
    "my_array = np.ones(10)\n",
    "print(my_array)"
   ],
   "outputs": [
    {
     "name": "stdout",
     "output_type": "stream",
     "text": [
      "[1. 1. 1. 1. 1. 1. 1. 1. 1. 1.]\n"
     ]
    }
   ],
   "execution_count": 20
  },
  {
   "cell_type": "markdown",
   "metadata": {},
   "source": [
    "#### Create an array of 10 fives [5, 5, 5, .... ]"
   ]
  },
  {
   "cell_type": "code",
   "metadata": {
    "ExecuteTime": {
     "end_time": "2025-09-16T13:32:54.709600Z",
     "start_time": "2025-09-16T13:32:54.704058Z"
    }
   },
   "source": [
    "my_array = np.ones(5, dtype=int)\n",
    "print(my_array*5)"
   ],
   "outputs": [
    {
     "name": "stdout",
     "output_type": "stream",
     "text": [
      "[5 5 5 5 5]\n"
     ]
    }
   ],
   "execution_count": 24
  },
  {
   "cell_type": "markdown",
   "metadata": {},
   "source": [
    "#### Create an array of the integers from 10 to 50 (including 50)"
   ]
  },
  {
   "cell_type": "code",
   "metadata": {
    "ExecuteTime": {
     "end_time": "2025-09-16T13:32:01.643455Z",
     "start_time": "2025-09-16T13:32:01.636700Z"
    }
   },
   "source": [
    "my_array = np.arange(10,51)\n",
    "print(my_array)"
   ],
   "outputs": [
    {
     "name": "stdout",
     "output_type": "stream",
     "text": [
      "[10 11 12 13 14 15 16 17 18 19 20 21 22 23 24 25 26 27 28 29 30 31 32 33\n",
      " 34 35 36 37 38 39 40 41 42 43 44 45 46 47 48 49 50]\n"
     ]
    }
   ],
   "execution_count": 22
  },
  {
   "cell_type": "markdown",
   "metadata": {},
   "source": [
    "#### Create an array of 10 random numbers between 0 and 5"
   ]
  },
  {
   "cell_type": "code",
   "metadata": {
    "ExecuteTime": {
     "end_time": "2025-09-16T13:41:47.669344Z",
     "start_time": "2025-09-16T13:41:47.659343Z"
    }
   },
   "source": [
    "my_array = np.random.rand(10) *5\n",
    "print(my_array)\n",
    "\n"
   ],
   "outputs": [
    {
     "data": {
      "text/plain": [
       "array([3.25384973, 3.33942945, 1.8371296 , 4.73924534, 0.02359145,\n",
       "       0.01372444, 1.09136777, 1.89430585, 3.99848303, 0.88049238])"
      ]
     },
     "execution_count": 29,
     "metadata": {},
     "output_type": "execute_result"
    }
   ],
   "execution_count": 29
  },
  {
   "cell_type": "markdown",
   "metadata": {},
   "source": [
    "#### Read the help for np.linspace function and create an array of 11 evenly spaced elements between 0 and 2\n",
    "use `np.linspace?` or `?np.linspace` to show the help"
   ]
  },
  {
   "cell_type": "code",
   "metadata": {
    "ExecuteTime": {
     "end_time": "2025-09-16T13:43:11.961061Z",
     "start_time": "2025-09-16T13:43:11.947255Z"
    }
   },
   "source": "np.linspace(0,2,11) #//linspace creates an array of evenly spaced elements\n",
   "outputs": [
    {
     "data": {
      "text/plain": [
       "array([0. , 0.2, 0.4, 0.6, 0.8, 1. , 1.2, 1.4, 1.6, 1.8, 2. ])"
      ]
     },
     "execution_count": 30,
     "metadata": {},
     "output_type": "execute_result"
    }
   ],
   "execution_count": 30
  },
  {
   "cell_type": "markdown",
   "metadata": {},
   "source": [
    "#### Create a 3 by 4 array of ones"
   ]
  },
  {
   "cell_type": "code",
   "metadata": {
    "ExecuteTime": {
     "end_time": "2025-09-16T13:44:40.674754Z",
     "start_time": "2025-09-16T13:44:40.665825Z"
    }
   },
   "source": "np.ones((3,4))",
   "outputs": [
    {
     "data": {
      "text/plain": [
       "array([[1., 1., 1., 1.],\n",
       "       [1., 1., 1., 1.],\n",
       "       [1., 1., 1., 1.]])"
      ]
     },
     "execution_count": 32,
     "metadata": {},
     "output_type": "execute_result"
    }
   ],
   "execution_count": 32
  },
  {
   "cell_type": "markdown",
   "metadata": {},
   "source": [
    "#### Create a 3 by 4 array of fives"
   ]
  },
  {
   "cell_type": "code",
   "metadata": {
    "ExecuteTime": {
     "end_time": "2025-09-16T13:45:51.191342Z",
     "start_time": "2025-09-16T13:45:51.183389Z"
    }
   },
   "source": "np.ones((3,4))*5\n",
   "outputs": [
    {
     "data": {
      "text/plain": [
       "array([[5., 5., 5., 5.],\n",
       "       [5., 5., 5., 5.],\n",
       "       [5., 5., 5., 5.]])"
      ]
     },
     "execution_count": 35,
     "metadata": {},
     "output_type": "execute_result"
    }
   ],
   "execution_count": 35
  },
  {
   "cell_type": "markdown",
   "metadata": {},
   "source": [
    "### Array Indexing\n",
    "Using the following arrays `a` and `m` for the questions below"
   ]
  },
  {
   "metadata": {
    "ExecuteTime": {
     "end_time": "2025-09-16T13:49:06.224005Z",
     "start_time": "2025-09-16T13:49:06.217651Z"
    }
   },
   "cell_type": "code",
   "source": [
    "my_list = np.array([1,2,3,4])\n",
    "print(my_list[1:3])\n",
    "\n"
   ],
   "outputs": [
    {
     "name": "stdout",
     "output_type": "stream",
     "text": [
      "[2 3]\n"
     ]
    }
   ],
   "execution_count": 40
  },
  {
   "cell_type": "code",
   "metadata": {
    "ExecuteTime": {
     "end_time": "2025-09-16T14:00:06.411007Z",
     "start_time": "2025-09-16T14:00:06.399198Z"
    }
   },
   "source": [
    "a = np.arange(10,21)\n",
    "a"
   ],
   "outputs": [
    {
     "data": {
      "text/plain": [
       "array([10, 11, 12, 13, 14, 15, 16, 17, 18, 19, 20])"
      ]
     },
     "execution_count": 52,
     "metadata": {},
     "output_type": "execute_result"
    }
   ],
   "execution_count": 52
  },
  {
   "cell_type": "code",
   "metadata": {
    "ExecuteTime": {
     "end_time": "2025-09-16T14:08:27.804541Z",
     "start_time": "2025-09-16T14:08:27.792885Z"
    }
   },
   "source": [
    "m = np.arange(1,22).reshape((3,7))\n",
    "m"
   ],
   "outputs": [
    {
     "data": {
      "text/plain": [
       "array([[ 1,  2,  3,  4,  5,  6,  7],\n",
       "       [ 8,  9, 10, 11, 12, 13, 14],\n",
       "       [15, 16, 17, 18, 19, 20, 21]])"
      ]
     },
     "execution_count": 66,
     "metadata": {},
     "output_type": "execute_result"
    }
   ],
   "execution_count": 66
  },
  {
   "cell_type": "markdown",
   "metadata": {},
   "source": [
    "### Create an array containing... \n",
    "#### the first 4 elements of a"
   ]
  },
  {
   "cell_type": "code",
   "metadata": {
    "ExecuteTime": {
     "end_time": "2025-09-16T14:05:09.772842Z",
     "start_time": "2025-09-16T14:05:09.762670Z"
    }
   },
   "source": "a[:4]",
   "outputs": [
    {
     "data": {
      "text/plain": [
       "array([10, 11, 12, 13])"
      ]
     },
     "execution_count": 62,
     "metadata": {},
     "output_type": "execute_result"
    }
   ],
   "execution_count": 62
  },
  {
   "cell_type": "markdown",
   "metadata": {},
   "source": [
    "#### the last 3 elements of a"
   ]
  },
  {
   "cell_type": "code",
   "metadata": {
    "ExecuteTime": {
     "end_time": "2025-09-16T14:24:19.413877Z",
     "start_time": "2025-09-16T14:24:19.405262Z"
    }
   },
   "source": "a[-3:]",
   "outputs": [
    {
     "data": {
      "text/plain": [
       "array([18, 19, 20])"
      ]
     },
     "execution_count": 77,
     "metadata": {},
     "output_type": "execute_result"
    }
   ],
   "execution_count": 77
  },
  {
   "cell_type": "markdown",
   "metadata": {},
   "source": [
    "#### The middle elements of a from 15 to 18 inclusive"
   ]
  },
  {
   "cell_type": "code",
   "metadata": {
    "ExecuteTime": {
     "end_time": "2025-09-16T14:05:35.456011Z",
     "start_time": "2025-09-16T14:05:35.440772Z"
    }
   },
   "source": [
    "my_array = a[5:9]\n",
    "np.median(my_array)"
   ],
   "outputs": [
    {
     "data": {
      "text/plain": [
       "np.float64(16.5)"
      ]
     },
     "execution_count": 64,
     "metadata": {},
     "output_type": "execute_result"
    }
   ],
   "execution_count": 64
  },
  {
   "cell_type": "markdown",
   "metadata": {},
   "source": [
    "#### The first column of m"
   ]
  },
  {
   "cell_type": "code",
   "metadata": {
    "ExecuteTime": {
     "end_time": "2025-09-16T14:13:25.160106Z",
     "start_time": "2025-09-16T14:13:25.150760Z"
    }
   },
   "source": "m[:,0]",
   "outputs": [
    {
     "data": {
      "text/plain": [
       "array([ 1,  8, 15])"
      ]
     },
     "execution_count": 73,
     "metadata": {},
     "output_type": "execute_result"
    }
   ],
   "execution_count": 73
  },
  {
   "cell_type": "markdown",
   "metadata": {},
   "source": [
    "#### The middle row of m"
   ]
  },
  {
   "cell_type": "code",
   "metadata": {
    "ExecuteTime": {
     "end_time": "2025-09-16T14:09:51.108339Z",
     "start_time": "2025-09-16T14:09:51.100528Z"
    }
   },
   "source": "m[1]",
   "outputs": [
    {
     "data": {
      "text/plain": [
       "array([ 8,  9, 10, 11, 12, 13, 14])"
      ]
     },
     "execution_count": 69,
     "metadata": {},
     "output_type": "execute_result"
    }
   ],
   "execution_count": 69
  },
  {
   "cell_type": "markdown",
   "metadata": {},
   "source": [
    "#### The left 3 columns of m"
   ]
  },
  {
   "cell_type": "code",
   "metadata": {
    "ExecuteTime": {
     "end_time": "2025-09-16T14:12:33.146935Z",
     "start_time": "2025-09-16T14:12:33.134552Z"
    }
   },
   "source": "m[0:3,0:3]",
   "outputs": [
    {
     "data": {
      "text/plain": [
       "array([[ 1,  2,  3],\n",
       "       [ 8,  9, 10],\n",
       "       [15, 16, 17]])"
      ]
     },
     "execution_count": 72,
     "metadata": {},
     "output_type": "execute_result"
    }
   ],
   "execution_count": 72
  },
  {
   "cell_type": "markdown",
   "metadata": {},
   "source": [
    "#### The bottom-right 2 by 2 square"
   ]
  },
  {
   "cell_type": "code",
   "metadata": {
    "ExecuteTime": {
     "end_time": "2025-09-16T14:26:33.960228Z",
     "start_time": "2025-09-16T14:26:33.950363Z"
    }
   },
   "source": "m[1: , -2:]",
   "outputs": [
    {
     "data": {
      "text/plain": [
       "array([[13, 14],\n",
       "       [20, 21]])"
      ]
     },
     "execution_count": 78,
     "metadata": {},
     "output_type": "execute_result"
    }
   ],
   "execution_count": 78
  },
  {
   "cell_type": "markdown",
   "metadata": {},
   "source": [
    "#### Print every other element of a\n",
    "Hint: use slicing with a step (`array[start:stop:step]`)"
   ]
  },
  {
   "cell_type": "code",
   "metadata": {
    "ExecuteTime": {
     "end_time": "2025-09-16T14:28:58.100408Z",
     "start_time": "2025-09-16T14:28:58.089818Z"
    }
   },
   "source": "a[0:-1:2]",
   "outputs": [
    {
     "data": {
      "text/plain": [
       "array([10, 12, 14, 16, 18])"
      ]
     },
     "execution_count": 82,
     "metadata": {},
     "output_type": "execute_result"
    }
   ],
   "execution_count": 82
  },
  {
   "cell_type": "markdown",
   "metadata": {},
   "source": [
    "#### Print the `even` elements of a\n",
    "Hint: use boolean indexing"
   ]
  },
  {
   "cell_type": "code",
   "metadata": {
    "ExecuteTime": {
     "end_time": "2025-09-16T14:27:34.086927Z",
     "start_time": "2025-09-16T14:27:34.075788Z"
    }
   },
   "source": [
    "array = a[a%2==0]\n",
    "array"
   ],
   "outputs": [
    {
     "data": {
      "text/plain": [
       "array([10, 12, 14, 16, 18, 20])"
      ]
     },
     "execution_count": 80,
     "metadata": {},
     "output_type": "execute_result"
    }
   ],
   "execution_count": 80
  },
  {
   "cell_type": "markdown",
   "metadata": {},
   "source": [
    "### Array Math"
   ]
  },
  {
   "cell_type": "markdown",
   "metadata": {},
   "source": [
    "#### Subtract 5 from each element of a"
   ]
  },
  {
   "cell_type": "code",
   "metadata": {
    "ExecuteTime": {
     "end_time": "2025-09-16T14:45:59.341396Z",
     "start_time": "2025-09-16T14:45:59.330541Z"
    }
   },
   "source": "a-5",
   "outputs": [
    {
     "data": {
      "text/plain": [
       "array([ 5,  6,  7,  8,  9, 10, 11, 12, 13, 14, 15])"
      ]
     },
     "execution_count": 83,
     "metadata": {},
     "output_type": "execute_result"
    }
   ],
   "execution_count": 83
  },
  {
   "cell_type": "markdown",
   "metadata": {},
   "source": [
    "#### Calculate the `sum` of all the elements in a"
   ]
  },
  {
   "metadata": {
    "ExecuteTime": {
     "end_time": "2025-09-16T14:47:15.843938Z",
     "start_time": "2025-09-16T14:47:15.835451Z"
    }
   },
   "cell_type": "code",
   "source": "a.sum()",
   "outputs": [
    {
     "data": {
      "text/plain": [
       "np.int64(165)"
      ]
     },
     "execution_count": 85,
     "metadata": {},
     "output_type": "execute_result"
    }
   ],
   "execution_count": 85
  },
  {
   "cell_type": "code",
   "metadata": {
    "ExecuteTime": {
     "end_time": "2025-09-16T14:46:40.377884Z",
     "start_time": "2025-09-16T14:46:40.370376Z"
    }
   },
   "source": "np.sum(a)\n",
   "outputs": [
    {
     "data": {
      "text/plain": [
       "np.int64(165)"
      ]
     },
     "execution_count": 84,
     "metadata": {},
     "output_type": "execute_result"
    }
   ],
   "execution_count": 84
  },
  {
   "cell_type": "markdown",
   "metadata": {},
   "source": [
    "#### Calculate the sum of each column and each row in `m`\n",
    "Hint: use the `axis` argument of the `sum` method"
   ]
  },
  {
   "metadata": {
    "ExecuteTime": {
     "end_time": "2025-09-16T14:53:15.165122Z",
     "start_time": "2025-09-16T14:53:15.156154Z"
    }
   },
   "cell_type": "code",
   "source": [
    "np.sum(m , axis=0) #axis is zero row\n",
    "np.sum(m, axis=1)  #axis one is column 1"
   ],
   "outputs": [
    {
     "data": {
      "text/plain": [
       "array([ 28,  77, 126])"
      ]
     },
     "execution_count": 91,
     "metadata": {},
     "output_type": "execute_result"
    }
   ],
   "execution_count": 91
  },
  {
   "cell_type": "code",
   "metadata": {
    "ExecuteTime": {
     "end_time": "2025-09-16T14:47:42.579844Z",
     "start_time": "2025-09-16T14:47:42.571445Z"
    }
   },
   "source": "m.sum()",
   "outputs": [
    {
     "data": {
      "text/plain": [
       "np.int64(231)"
      ]
     },
     "execution_count": 86,
     "metadata": {},
     "output_type": "execute_result"
    }
   ],
   "execution_count": 86
  },
  {
   "cell_type": "markdown",
   "metadata": {},
   "source": [
    "#### Create an array containing squares of all numbers from 1 to 10 (inclusive)"
   ]
  },
  {
   "cell_type": "code",
   "metadata": {
    "ExecuteTime": {
     "end_time": "2025-09-16T14:54:23.737185Z",
     "start_time": "2025-09-16T14:54:23.728411Z"
    }
   },
   "source": "np.arange(1,11) ** 2",
   "outputs": [
    {
     "data": {
      "text/plain": [
       "array([  1,   4,   9,  16,  25,  36,  49,  64,  81, 100])"
      ]
     },
     "execution_count": 93,
     "metadata": {},
     "output_type": "execute_result"
    }
   ],
   "execution_count": 93
  },
  {
   "cell_type": "markdown",
   "metadata": {},
   "source": [
    "#### Create an array containing all powers of 2 from $2^0$ to $2^{10}$ (inclusive)"
   ]
  },
  {
   "cell_type": "code",
   "metadata": {
    "ExecuteTime": {
     "end_time": "2025-09-16T14:55:34.154429Z",
     "start_time": "2025-09-16T14:55:34.147664Z"
    }
   },
   "source": "2 ** np.arange(11)",
   "outputs": [
    {
     "data": {
      "text/plain": [
       "array([   1,    2,    4,    8,   16,   32,   64,  128,  256,  512, 1024])"
      ]
     },
     "execution_count": 96,
     "metadata": {},
     "output_type": "execute_result"
    }
   ],
   "execution_count": 96
  },
  {
   "cell_type": "markdown",
   "metadata": {},
   "source": [
    "#### Same as above (powers of two), but subtract one from each element, that is $a_k = 2^k - 1$"
   ]
  },
  {
   "cell_type": "code",
   "metadata": {
    "ExecuteTime": {
     "end_time": "2025-09-16T14:55:43.044134Z",
     "start_time": "2025-09-16T14:55:43.037582Z"
    }
   },
   "source": "2 ** np.arange(11) - 1",
   "outputs": [
    {
     "data": {
      "text/plain": [
       "array([   0,    1,    3,    7,   15,   31,   63,  127,  255,  511, 1023])"
      ]
     },
     "execution_count": 97,
     "metadata": {},
     "output_type": "execute_result"
    }
   ],
   "execution_count": 97
  },
  {
   "cell_type": "markdown",
   "metadata": {},
   "source": [
    "## Plotting Basics\n",
    " - Use [this tutorial](https://matplotlib.org/users/pyplot_tutorial.html) as reference when (if) you get stuck\n",
    " - Execute the cells with imports, otherwise you won't have numpy and matplotlib imported and Python will complain"
   ]
  },
  {
   "cell_type": "code",
   "metadata": {
    "ExecuteTime": {
     "end_time": "2025-09-18T02:00:25.401944Z",
     "start_time": "2025-09-18T02:00:23.367770Z"
    }
   },
   "source": [
    "import numpy as np\n",
    "import matplotlib.pyplot as plt"
   ],
   "outputs": [],
   "execution_count": 5
  },
  {
   "metadata": {
    "ExecuteTime": {
     "end_time": "2025-09-18T02:00:27.061354Z",
     "start_time": "2025-09-18T02:00:26.990195Z"
    }
   },
   "cell_type": "code",
   "source": "weather",
   "outputs": [
    {
     "ename": "NameError",
     "evalue": "name 'weather' is not defined",
     "output_type": "error",
     "traceback": [
      "\u001B[31m---------------------------------------------------------------------------\u001B[39m",
      "\u001B[31mNameError\u001B[39m                                 Traceback (most recent call last)",
      "\u001B[36mCell\u001B[39m\u001B[36m \u001B[39m\u001B[32mIn[6]\u001B[39m\u001B[32m, line 1\u001B[39m\n\u001B[32m----> \u001B[39m\u001B[32m1\u001B[39m \u001B[43mweather\u001B[49m\n",
      "\u001B[31mNameError\u001B[39m: name 'weather' is not defined"
     ]
    }
   ],
   "execution_count": 6
  },
  {
   "cell_type": "code",
   "metadata": {
    "ExecuteTime": {
     "end_time": "2025-09-18T02:00:32.361455Z",
     "start_time": "2025-09-18T02:00:32.336270Z"
    }
   },
   "source": [
    "# Load weather data (take a look at that CSV file on GitHub or via Excel and note column names)\n",
    "weather = np.loadtxt(\"OshawaWeather2016.csv\", skiprows=1, delimiter=',')\n"
   ],
   "outputs": [],
   "execution_count": 7
  },
  {
   "metadata": {
    "ExecuteTime": {
     "end_time": "2025-09-18T02:00:36.097727Z",
     "start_time": "2025-09-18T02:00:36.071742Z"
    }
   },
   "cell_type": "code",
   "source": "max_temp",
   "outputs": [
    {
     "ename": "NameError",
     "evalue": "name 'max_temp' is not defined",
     "output_type": "error",
     "traceback": [
      "\u001B[31m---------------------------------------------------------------------------\u001B[39m",
      "\u001B[31mNameError\u001B[39m                                 Traceback (most recent call last)",
      "\u001B[36mCell\u001B[39m\u001B[36m \u001B[39m\u001B[32mIn[8]\u001B[39m\u001B[32m, line 1\u001B[39m\n\u001B[32m----> \u001B[39m\u001B[32m1\u001B[39m \u001B[43mmax_temp\u001B[49m\n",
      "\u001B[31mNameError\u001B[39m: name 'max_temp' is not defined"
     ]
    }
   ],
   "execution_count": 8
  },
  {
   "cell_type": "code",
   "metadata": {
    "ExecuteTime": {
     "end_time": "2025-09-18T02:00:18.970853Z",
     "start_time": "2025-09-18T02:00:18.947269Z"
    }
   },
   "source": [
    "weather.shape"
   ],
   "outputs": [
    {
     "ename": "NameError",
     "evalue": "name 'weather' is not defined",
     "output_type": "error",
     "traceback": [
      "\u001B[31m---------------------------------------------------------------------------\u001B[39m",
      "\u001B[31mNameError\u001B[39m                                 Traceback (most recent call last)",
      "\u001B[36mCell\u001B[39m\u001B[36m \u001B[39m\u001B[32mIn[4]\u001B[39m\u001B[32m, line 1\u001B[39m\n\u001B[32m----> \u001B[39m\u001B[32m1\u001B[39m \u001B[43mweather\u001B[49m.shape\n",
      "\u001B[31mNameError\u001B[39m: name 'weather' is not defined"
     ]
    }
   ],
   "execution_count": 4
  },
  {
   "cell_type": "code",
   "metadata": {
    "ExecuteTime": {
     "end_time": "2025-09-18T02:00:44.955406Z",
     "start_time": "2025-09-18T02:00:44.936009Z"
    }
   },
   "source": [
    "weather.dtype"
   ],
   "outputs": [
    {
     "data": {
      "text/plain": [
       "dtype('float64')"
      ]
     },
     "execution_count": 9,
     "metadata": {},
     "output_type": "execute_result"
    }
   ],
   "execution_count": 9
  },
  {
   "cell_type": "markdown",
   "metadata": {},
   "source": [
    "#### Crate separate 1D arrays for each column (e.g: day, maxt, mint and so on)"
   ]
  },
  {
   "cell_type": "code",
   "metadata": {
    "ExecuteTime": {
     "end_time": "2025-09-18T02:00:46.729085Z",
     "start_time": "2025-09-18T02:00:46.724527Z"
    }
   },
   "source": [
    "# your code here\n",
    "# column name in csv file: Day,Max Temp (°C),Min Temp (°C),Mean Temp (°C),Total Precip (mm)\n",
    "# day = weather[???]\n",
    "day = weather[:,0]\n",
    "max_temp = weather[:,1]\n",
    "min_temp = weather[:,2]\n",
    "avg_temp = weather[:,3]\n",
    "total_precip = weather[:,4]"
   ],
   "outputs": [],
   "execution_count": 10
  },
  {
   "cell_type": "markdown",
   "metadata": {},
   "source": [
    "#### Plot the minimum temperature as a function of day number"
   ]
  },
  {
   "cell_type": "code",
   "metadata": {
    "ExecuteTime": {
     "end_time": "2025-09-18T02:00:49.559564Z",
     "start_time": "2025-09-18T02:00:49.341590Z"
    }
   },
   "source": [
    "plt.plot(day, min_temp)\n",
    "plt.xlabel('day')\n",
    "plt.ylabel('min_temp')"
   ],
   "outputs": [
    {
     "data": {
      "text/plain": [
       "Text(0, 0.5, 'min_temp')"
      ]
     },
     "execution_count": 11,
     "metadata": {},
     "output_type": "execute_result"
    },
    {
     "data": {
      "text/plain": [
       "<Figure size 640x480 with 1 Axes>"
      ],
      "image/png": "[encoded data removed]"
     },
     "metadata": {},
     "output_type": "display_data"
    }
   ],
   "execution_count": 11
  },
  {
   "cell_type": "markdown",
   "metadata": {},
   "source": [
    "#### Plot the max temperature in degrees Fahrenheit"
   ]
  },
  {
   "cell_type": "code",
   "metadata": {
    "ExecuteTime": {
     "end_time": "2025-09-18T02:00:52.419793Z",
     "start_time": "2025-09-18T02:00:52.282051Z"
    }
   },
   "source": [
    "max_temp = (9/5) * max_temp + 32\n",
    "plt.plot(day, max_temp)\n",
    "plt.xlabel('day')\n",
    "plt.ylabel('max_temp')\n",
    "plt.title('max_temp in fahrenheit')"
   ],
   "outputs": [
    {
     "data": {
      "text/plain": [
       "Text(0.5, 1.0, 'max_temp in fahrenheit')"
      ]
     },
     "execution_count": 12,
     "metadata": {},
     "output_type": "execute_result"
    },
    {
     "data": {
      "text/plain": [
       "<Figure size 640x480 with 1 Axes>"
      ],
      "image/png": "[encoded data removed]"
     },
     "metadata": {},
     "output_type": "display_data"
    }
   ],
   "execution_count": 12
  },
  {
   "cell_type": "markdown",
   "metadata": {},
   "source": [
    "#### Plot the difference between the maximum and the minimum day temperature as a function of day number"
   ]
  },
  {
   "cell_type": "code",
   "execution_count": null,
   "metadata": {},
   "outputs": [],
   "source": []
  },
  {
   "cell_type": "markdown",
   "metadata": {},
   "source": [
    "#### Plot both, the minimum and maximum temperature on the same figure"
   ]
  },
  {
   "cell_type": "code",
   "metadata": {
    "ExecuteTime": {
     "end_time": "2025-09-18T02:00:54.939817Z",
     "start_time": "2025-09-18T02:00:54.763860Z"
    }
   },
   "source": [
    "plt.plot(day, max_temp ,color='red', label=\"min_temp\")\n",
    "plt.plot(day, max_temp ,color='blue' , label=\"max_temp\")\n",
    "plt.title('max_temp and min_temp')\n",
    "plt.xlabel('day')\n",
    "plt.legend()\n"
   ],
   "outputs": [
    {
     "data": {
      "text/plain": [
       "<matplotlib.legend.Legend at 0x1c38c3741d0>"
      ]
     },
     "execution_count": 13,
     "metadata": {},
     "output_type": "execute_result"
    },
    {
     "data": {
      "text/plain": [
       "<Figure size 640x480 with 1 Axes>"
      ],
      "image/png": "[encoded data removed]"
     },
     "metadata": {},
     "output_type": "display_data"
    }
   ],
   "execution_count": 13
  },
  {
   "cell_type": "markdown",
   "metadata": {},
   "source": [
    "#### Add axis labels and a legend to the plot above\n",
    "Use the following functions:\n",
    " - plt.xlabel\n",
    " - plt.ylabel\n",
    " - plt.title\n",
    " - plt.legend"
   ]
  },
  {
   "cell_type": "markdown",
   "metadata": {},
   "source": [
    "#### Read about plt.hist() function and plot a histogram of the maximum temperatures"
   ]
  },
  {
   "cell_type": "code",
   "metadata": {
    "ExecuteTime": {
     "end_time": "2025-09-16T15:07:52.409808Z",
     "start_time": "2025-09-16T15:07:52.397240Z"
    }
   },
   "source": [
    "plt.hist?"
   ],
   "outputs": [],
   "execution_count": 102
  },
  {
   "cell_type": "markdown",
   "metadata": {},
   "source": [
    "#### Plot a histogram of the differences between the min and max temperature"
   ]
  },
  {
   "cell_type": "code",
   "metadata": {
    "ExecuteTime": {
     "end_time": "2025-09-18T02:01:02.728278Z",
     "start_time": "2025-09-18T02:01:02.603780Z"
    }
   },
   "source": "plt.hist(max_temp)",
   "outputs": [
    {
     "data": {
      "text/plain": [
       "(array([ 1.,  0., 18., 52., 56., 51., 35., 67., 58., 11.]),\n",
       " array([-0.4 ,  9.32, 19.04, 28.76, 38.48, 48.2 , 57.92, 67.64, 77.36,\n",
       "        87.08, 96.8 ]),\n",
       " <BarContainer object of 10 artists>)"
      ]
     },
     "execution_count": 14,
     "metadata": {},
     "output_type": "execute_result"
    },
    {
     "data": {
      "text/plain": [
       "<Figure size 640x480 with 1 Axes>"
      ],
      "image/png": "[encoded data removed]"
     },
     "metadata": {},
     "output_type": "display_data"
    }
   ],
   "execution_count": 14
  },
  {
   "cell_type": "markdown",
   "metadata": {},
   "source": [
    "#### For each day calculate the average of the 3 temperatures in the data (min max and avg)\n"
   ]
  },
  {
   "cell_type": "code",
   "metadata": {
    "ExecuteTime": {
     "end_time": "2025-09-18T02:01:07.004057Z",
     "start_time": "2025-09-18T02:01:06.911036Z"
    }
   },
   "source": [
    "from statistics import mean\n",
    "\n",
    "avg_temp = mean(max_temp+min_temp+avg_temp)\n",
    "plt.hist(avg_temp , bins=5, color='skyblue', edgecolor='black')\n",
    "plt.title('Histogram of Average Temperatures')\n",
    "plt.xlabel('Temperature')\n",
    "plt.ylabel('Frequency')\n",
    "plt.show()\n",
    "\n"
   ],
   "outputs": [
    {
     "data": {
      "text/plain": [
       "<Figure size 640x480 with 1 Axes>"
      ],
      "image/png": "[encoded data removed]"
     },
     "metadata": {},
     "output_type": "display_data"
    }
   ],
   "execution_count": 15
  },
  {
   "cell_type": "markdown",
   "metadata": {},
   "source": [
    "#### Calculate the total amount of precipitation for the whole year\n",
    "Does the number seem reasonable? The annual average precipitation in Toronto is 831 mm according to https://en.wikipedia.org/wiki/Geography_of_Toronto"
   ]
  },
  {
   "cell_type": "code",
   "metadata": {
    "ExecuteTime": {
     "end_time": "2025-09-18T02:06:12.754998Z",
     "start_time": "2025-09-18T02:06:12.613402Z"
    }
   },
   "source": [
    "total_precip = total_precip.sum()\n",
    "print(total_precip)\n",
    "toronto_precip = 831\n",
    "\n",
    "plt.hist(total_precip, bins=20, color='skyblue', edgecolor='black')\n",
    "plt.axvline(toronto_precip, color='red', linestyle='--', label='Toronto Avg Precipitation')\n",
    "plt.title('Histogram of Total Precipitation')\n",
    "plt.xlabel('Precipitation')\n",
    "plt.ylabel('Frequency')\n",
    "plt.show()"
   ],
   "outputs": [
    {
     "name": "stdout",
     "output_type": "stream",
     "text": [
      "662.8000000000001\n"
     ]
    },
    {
     "data": {
      "text/plain": [
       "<Figure size 640x480 with 1 Axes>"
      ],
      "image/png": "[encoded data removed]"
     },
     "metadata": {},
     "output_type": "display_data"
    }
   ],
   "execution_count": 19
  },
  {
   "cell_type": "markdown",
   "metadata": {},
   "source": [
    "#### Calculate the total precipitation on all odd numbered days (day 1, 3, 5 and so on)"
   ]
  },
  {
   "cell_type": "code",
   "metadata": {
    "ExecuteTime": {
     "end_time": "2025-09-18T02:13:11.863177Z",
     "start_time": "2025-09-18T02:13:11.829291Z"
    }
   },
   "source": [
    "odd_precip = total_precip[::2]\n",
    "total_odd_precip = odd_precip.sum()\n",
    "\n",
    "plt.hist(total_odd_precip, bins=20, color='skyblue', edgecolor='black')\n",
    "plt.title('Histogram of Total Odd Precipitation')\n",
    "plt.xlabel('Precipitation')\n",
    "plt.ylabel('Frequency')\n",
    "plt.show()\n"
   ],
   "outputs": [
    {
     "ename": "IndexError",
     "evalue": "invalid index to scalar variable.",
     "output_type": "error",
     "traceback": [
      "\u001B[31m---------------------------------------------------------------------------\u001B[39m",
      "\u001B[31mIndexError\u001B[39m                                Traceback (most recent call last)",
      "\u001B[36mCell\u001B[39m\u001B[36m \u001B[39m\u001B[32mIn[22]\u001B[39m\u001B[32m, line 1\u001B[39m\n\u001B[32m----> \u001B[39m\u001B[32m1\u001B[39m odd_precip = \u001B[43mtotal_precip\u001B[49m\u001B[43m[\u001B[49m\u001B[43m:\u001B[49m\u001B[43m:\u001B[49m\u001B[32;43m2\u001B[39;49m\u001B[43m]\u001B[49m\n\u001B[32m      2\u001B[39m total_odd_precip = odd_precip.sum()\n\u001B[32m      4\u001B[39m plt.hist(total_odd_precip, bins=\u001B[32m20\u001B[39m, color=\u001B[33m'\u001B[39m\u001B[33mskyblue\u001B[39m\u001B[33m'\u001B[39m, edgecolor=\u001B[33m'\u001B[39m\u001B[33mblack\u001B[39m\u001B[33m'\u001B[39m)\n",
      "\u001B[31mIndexError\u001B[39m: invalid index to scalar variable."
     ]
    }
   ],
   "execution_count": 22
  }
 ],
 "metadata": {
  "kernelspec": {
   "display_name": ".comp3122",
   "language": "python",
   "name": "python3"
  },
  "language_info": {
   "codemirror_mode": {
    "name": "ipython",
    "version": 3
   },
   "file_extension": ".py",
   "mimetype": "text/x-python",
   "name": "python",
   "nbconvert_exporter": "python",
   "pygments_lexer": "ipython3",
   "version": "3.12.9"
  }
 },
 "nbformat": 4,
 "nbformat_minor": 4
}
